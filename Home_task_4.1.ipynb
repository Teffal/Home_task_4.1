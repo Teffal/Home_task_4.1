{
 "cells": [
  {
   "cell_type": "code",
   "execution_count": 52,
   "metadata": {},
   "outputs": [],
   "source": [
    "import pandas as pd\n",
    "PATH = 'names/'\n",
    "years = [1900, 1950, 2000]"
   ]
  },
  {
   "cell_type": "code",
   "execution_count": 143,
   "metadata": {},
   "outputs": [
    {
     "data": {
      "text/html": [
       "<div>\n",
       "<table border=\"1\" class=\"dataframe\">\n",
       "  <thead>\n",
       "    <tr style=\"text-align: right;\">\n",
       "      <th></th>\n",
       "      <th></th>\n",
       "      <th>Name</th>\n",
       "      <th>Gender</th>\n",
       "      <th>Count</th>\n",
       "    </tr>\n",
       "    <tr>\n",
       "      <th>Year</th>\n",
       "      <th>Pos</th>\n",
       "      <th></th>\n",
       "      <th></th>\n",
       "      <th></th>\n",
       "    </tr>\n",
       "  </thead>\n",
       "  <tbody>\n",
       "    <tr>\n",
       "      <th rowspan=\"3\" valign=\"top\">1900</th>\n",
       "      <th>0</th>\n",
       "      <td>Mary</td>\n",
       "      <td>F</td>\n",
       "      <td>16707</td>\n",
       "    </tr>\n",
       "    <tr>\n",
       "      <th>1</th>\n",
       "      <td>Helen</td>\n",
       "      <td>F</td>\n",
       "      <td>6343</td>\n",
       "    </tr>\n",
       "    <tr>\n",
       "      <th>2</th>\n",
       "      <td>Anna</td>\n",
       "      <td>F</td>\n",
       "      <td>6114</td>\n",
       "    </tr>\n",
       "  </tbody>\n",
       "</table>\n",
       "</div>"
      ],
      "text/plain": [
       "<div>\n",
       "<table border=\"1\" class=\"dataframe\">\n",
       "  <thead>\n",
       "    <tr style=\"text-align: right;\">\n",
       "      <th></th>\n",
       "      <th></th>\n",
       "      <th>Name</th>\n",
       "      <th>Gender</th>\n",
       "      <th>Count</th>\n",
       "    </tr>\n",
       "    <tr>\n",
       "      <th>Year</th>\n",
       "      <th>Pos</th>\n",
       "      <th></th>\n",
       "      <th></th>\n",
       "      <th></th>\n",
       "    </tr>\n",
       "  </thead>\n",
       "  <tbody>\n",
       "    <tr>\n",
       "      <th rowspan=\"3\" valign=\"top\">1900</th>\n",
       "      <th>0</th>\n",
       "      <td>Mary</td>\n",
       "      <td>F</td>\n",
       "      <td>16707</td>\n",
       "    </tr>\n",
       "    <tr>\n",
       "      <th>1</th>\n",
       "      <td>Helen</td>\n",
       "      <td>F</td>\n",
       "      <td>6343</td>\n",
       "    </tr>\n",
       "    <tr>\n",
       "      <th>2</th>\n",
       "      <td>Anna</td>\n",
       "      <td>F</td>\n",
       "      <td>6114</td>\n",
       "    </tr>\n",
       "  </tbody>\n",
       "</table>\n",
       "</div>"
      ]
     },
     "execution_count": 143,
     "metadata": {},
     "output_type": "execute_result"
    }
   ],
   "source": [
    "def names_top3(years):\n",
    "    collums = ['Name','Gender','Count']\n",
    "    for year in years:\n",
    "        if year == years[0]:\n",
    "            names_all = pd.read_csv('{}yob{}.txt'.format(PATH, year), names=collums)\n",
    "        else:\n",
    "            names_next = pd.read_csv('{}yob{}.txt'.format(PATH, year), names=collums)\n",
    "            names_all = pd.merge(names_all, names_next, on=['Name', 'Gender'], suffixes=('_a', year)).head(10)\n",
    "    \n",
    "    names_by_year = {}\n",
    "    for year in years:\n",
    "        names_by_year[year] = pd.read_csv('{}yob{}.txt'.format(PATH, year), names=collums)\n",
    "    names_all = pd.concat(names_by_year, names=['Year', 'Pos'])\n",
    "    return names_all.head(3)\n",
    "\n",
    "names_top3(years)"
   ]
  },
  {
   "cell_type": "code",
   "execution_count": 153,
   "metadata": {},
   "outputs": [
    {
     "name": "stdout",
     "output_type": "stream",
     "text": [
      "Year: 1900. Count of man: 150490. Count of woman 299822.\nYear: 1950. Count of man: 1791474. Count of woman 1713450.\nYear: 2000. Count of man: 1962556. Count of woman 1814738.\n"
     ]
    }
   ],
   "source": [
    "def count_gender_of_year(years):\n",
    "    collums = ['Name','Gender','Count']\n",
    "    for year in years:\n",
    "        read_file_csv = pd.read_csv(PATH + \"yob\" + str(year) + \".txt\", names=collums)\n",
    "        man = read_file_csv[read_file_csv.Gender == \"M\"].Count.sum()\n",
    "        woman = read_file_csv[read_file_csv.Gender == \"F\"].Count.sum()\n",
    "        print('Year: {}. Count of man: {}. Count of woman {}.'.format(year, man, woman))\n",
    "\n",
    "count_gender_of_year(years)"
   ]
  },
  {
   "cell_type": "code",
   "execution_count": null,
   "metadata": {},
   "outputs": [],
   "source": [
    ""
   ]
  }
 ],
 "metadata": {},
 "nbformat": 4,
 "nbformat_minor": 0
}